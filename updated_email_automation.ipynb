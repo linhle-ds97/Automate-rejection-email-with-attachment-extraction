{
 "cells": [
  {
   "cell_type": "markdown",
   "id": "c39c1631-866b-4b47-bd49-9e2c47a3a081",
   "metadata": {},
   "source": [
    "## Project: Automate Rejection Emails"
   ]
  },
  {
   "cell_type": "markdown",
   "id": "f93a58af-e13f-42cd-adc0-b6af89181721",
   "metadata": {},
   "source": [
    "Link to BIOSL task: https://bugs.opera.com/browse/BIOSL-302\n",
    "\n",
    "Author: Linh Le / BI Intern\n",
    "\n",
    "Requester: Jose Diaz\n",
    "\n",
    "#### Input:\n",
    "- Emails from bi.oslo.reporting@gmail.com\n",
    "\n",
    "#### Output:\n",
    "- Google sheet: https://docs.google.com/spreadsheets/d/1AfFa7lPHZ5_NgYNHAawcf4Wy5hGDpsY683T6UkBcb64/edit#gid=1200894280https://docs.google.com/spreadsheets/d/1AfFa7lPHZ5_NgYNHAawcf4Wy5hGDpsY683T6UkBcb64/edit#gid=1200894280\n"
   ]
  },
  {
   "cell_type": "markdown",
   "id": "d10858a4-d1e3-4bcd-a8aa-65c3b247acce",
   "metadata": {},
   "source": [
    "### 1. Read the current Google Sheet file into Python"
   ]
  },
  {
   "cell_type": "code",
   "execution_count": 22,
   "id": "bd8d513d-c8b2-404f-b67b-230cf9a26d40",
   "metadata": {
    "execution": {
     "iopub.execute_input": "2023-05-12T08:56:56.114310Z",
     "iopub.status.busy": "2023-05-12T08:56:56.113832Z",
     "iopub.status.idle": "2023-05-12T08:56:57.567517Z",
     "shell.execute_reply": "2023-05-12T08:56:57.566964Z",
     "shell.execute_reply.started": "2023-05-12T08:56:56.114276Z"
    },
    "tags": []
   },
   "outputs": [
    {
     "data": {
      "text/plain": [
       "(240, 13)"
      ]
     },
     "execution_count": 22,
     "metadata": {},
     "output_type": "execute_result"
    }
   ],
   "source": [
    "import pandas as pd\n",
    "import numpy as np\n",
    "from datetime import date\n",
    "import aiteam_tools.ai_tools.gsheets_api as gsheet\n",
    "from apiclient import discovery\n",
    "\n",
    "# Set up google sheets api\n",
    "sheets = discovery.build(\"sheets\", \"v4\").spreadsheets()\n",
    "sheet_name = 'Rejection Emails'\n",
    "gsID = '1AfFa7lPHZ5_NgYNHAawcf4Wy5hGDpsY683T6UkBcb64'\n",
    "\n",
    "# Reading Google Sheet to Dataframe\n",
    "current_email = gsheet.read_df(sheets, gsID, sheet_name, start_column=\"A\", end_column=\"M\", start_row=\"1\", end_row=\"241\") \n",
    "current_email.shape\n",
    "\n",
    "# # Change the data type of \"month\" and \"date\" column for the purpose of concatenating data frames later\n",
    "current_email['month'] = pd.to_datetime(current_email['month'])\n",
    "current_email['date'] = pd.to_datetime(current_email['date'])\n",
    "\n",
    "current_email.info()"
   ]
  },
  {
   "cell_type": "markdown",
   "id": "70a3d4c2-23f0-46f3-b547-4fc1ad45f05c",
   "metadata": {},
   "source": [
    "### 2. Extract all attachments from all emails"
   ]
  },
  {
   "cell_type": "code",
   "execution_count": 9,
   "id": "939d31fa-efc1-4f03-a067-3fea42c9e746",
   "metadata": {
    "execution": {
     "iopub.execute_input": "2023-05-12T08:34:00.806993Z",
     "iopub.status.busy": "2023-05-12T08:34:00.806586Z",
     "iopub.status.idle": "2023-05-12T08:34:05.920450Z",
     "shell.execute_reply": "2023-05-12T08:34:05.919489Z",
     "shell.execute_reply.started": "2023-05-12T08:34:00.806969Z"
    },
    "tags": []
   },
   "outputs": [
    {
     "name": "stdout",
     "output_type": "stream",
     "text": [
      "The number of attachments is:  252\n"
     ]
    }
   ],
   "source": [
    "import mailbox\n",
    "## (1) Define a function to extract attachments\n",
    "\n",
    "number_of_attachment = []\n",
    "\n",
    "def extractattachements(message):\n",
    "    if message.get_content_maintype() == 'multipart':\n",
    "        for part in message.walk():\n",
    "            if part.get_content_maintype() == 'multipart': continue\n",
    "            if part.get('Content-Disposition') is None: continue\n",
    "            attachment_name = part.get_filename()\n",
    "            number_of_attachment.append(attachment_name)\n",
    "            attachment = open(attachment_name,'wb')\n",
    "            attachment.write(part.get_payload(decode=True))\n",
    "            attachment.close()\n",
    "\n",
    "## (2) Apply the newly defined function to all emails in the mbox file:\n",
    "\n",
    "# Reading the mbox file to Python\n",
    "mbox = mailbox.mbox(\"Inbox 1005.mbox\")\n",
    "\n",
    "# Apply function to extract all attachments\n",
    "for message in  mbox:\n",
    "    extractattachements(message)\n",
    "    \n",
    "print(\"The number of attachments is: \", len(number_of_attachment))\n",
    "            \n",
    "### NOTE: All attachments are extracted and located in the current working directory on Pube\n"
   ]
  },
  {
   "cell_type": "markdown",
   "id": "959e525d-3d88-423a-8b32-ddc8b84fe2bc",
   "metadata": {},
   "source": [
    "### 3. Getting a list of attachment names from emails:"
   ]
  },
  {
   "cell_type": "code",
   "execution_count": 10,
   "id": "20d1b0a0-9ca1-4a7f-9829-8f075b668316",
   "metadata": {
    "execution": {
     "iopub.execute_input": "2023-05-12T08:34:13.862152Z",
     "iopub.status.busy": "2023-05-12T08:34:13.861800Z",
     "iopub.status.idle": "2023-05-12T08:34:16.806107Z",
     "shell.execute_reply": "2023-05-12T08:34:16.805316Z",
     "shell.execute_reply.started": "2023-05-12T08:34:13.862130Z"
    },
    "tags": []
   },
   "outputs": [],
   "source": [
    "attachment_name = []\n",
    "\n",
    "for message in mbox:\n",
    "    if message.get_content_maintype() == 'multipart':\n",
    "        for part in message.walk():\n",
    "            if part.get_content_maintype() == 'multipart': continue\n",
    "            if part.get('Content-Disposition') is None: continue\n",
    "            filename = part.get_filename()\n",
    "            attachment_name.append(filename)\n"
   ]
  },
  {
   "cell_type": "markdown",
   "id": "defba650-df2f-483d-b169-e2d7734a0de7",
   "metadata": {},
   "source": [
    "### 4. Get the link to each specific attachment"
   ]
  },
  {
   "cell_type": "code",
   "execution_count": 11,
   "id": "03c05b14-b651-41ba-ac14-f0b6c7a94830",
   "metadata": {
    "execution": {
     "iopub.execute_input": "2023-05-12T08:34:29.786777Z",
     "iopub.status.busy": "2023-05-12T08:34:29.786437Z",
     "iopub.status.idle": "2023-05-12T08:39:56.933586Z",
     "shell.execute_reply": "2023-05-12T08:39:56.932906Z",
     "shell.execute_reply.started": "2023-05-12T08:34:29.786756Z"
    },
    "tags": []
   },
   "outputs": [
    {
     "name": "stdout",
     "output_type": "stream",
     "text": [
      "https://drive.google.com/drive/u/0/folders/187aaBMr886agMRXiQqevEmbSdHfhB_dw\n"
     ]
    }
   ],
   "source": [
    "import os\n",
    "import re as _re\n",
    "import json\n",
    "import urllib\n",
    "import urllib.parse\n",
    "from apiclient import discovery\n",
    "from googleapiclient.http import MediaFileUpload\n",
    "\n",
    "service = discovery.build('drive', 'v3')\n",
    "\n",
    "# Create folder + spredsheet in shared drive: Distribution Team/Tasks \n",
    "project = \"email rejection \"\n",
    "task = \"automation\"\n",
    "template = 'general'\n",
    "create_drivefolder = True\n",
    "attachment_name\n",
    "\n",
    "# (1) Firstly, we create a parent Drive folder\n",
    "\n",
    "bi_folder = '19C-3tKg0iPFIE7_-X3Fu9ZrhDlVHE3pN' # Folder of Email Rejection Automation Project\n",
    "\n",
    "body = {\"parents\":[bi_folder], \"name\":\"{}\".format(project), \"mimeType\":\"application/vnd.google-apps.folder\"}\n",
    "folder = service.files().create(body = body, supportsAllDrives=True).execute()\n",
    "folder_id = folder['id']\n",
    "\n",
    "# (2) Then, we upload the attachments extracted from defined function above to the drive folder\n",
    "\n",
    "sheet_list = []\n",
    "\n",
    "for file in attachment_name:\n",
    "    media = MediaFileUpload(file, mimetype='application/pdf')\n",
    "    \n",
    "    body = {\"parents\":[folder_id], \"name\":\"{} {}\".format(file, task), \"mimeType\":\"application/pdf\"}\n",
    "    the_sheet = service.files().create(body = body, media_body = media, supportsAllDrives=True).execute()\n",
    "    sheet_id = the_sheet['id']\n",
    "    sheet_list.append(sheet_id)\n",
    "    \n",
    "\n",
    "print('https://drive.google.com/drive/u/0/folders/' + folder_id)\n",
    "\n",
    "# Create a list containing link to attachment\n",
    "attachment_link = []\n",
    "\n",
    "for sheet in sheet_list:\n",
    "    att_link = 'https://drive.google.com/file/d/' + sheet\n",
    "    attachment_link.append(att_link)\n"
   ]
  },
  {
   "cell_type": "markdown",
   "id": "17a8b92b-4c40-4330-b951-0467b721e225",
   "metadata": {
    "execution": {
     "iopub.execute_input": "2023-05-08T13:01:40.954130Z",
     "iopub.status.busy": "2023-05-08T13:01:40.953761Z",
     "iopub.status.idle": "2023-05-08T13:01:40.958204Z",
     "shell.execute_reply": "2023-05-08T13:01:40.957727Z",
     "shell.execute_reply.started": "2023-05-08T13:01:40.954105Z"
    },
    "tags": []
   },
   "source": [
    "### 5. Create a dataframe getting desired information from emails"
   ]
  },
  {
   "cell_type": "code",
   "execution_count": 12,
   "id": "d134a203-1b6e-4683-bba6-7df6dc95c343",
   "metadata": {
    "execution": {
     "iopub.execute_input": "2023-05-12T08:44:07.641550Z",
     "iopub.status.busy": "2023-05-12T08:44:07.641039Z",
     "iopub.status.idle": "2023-05-12T08:44:09.143275Z",
     "shell.execute_reply": "2023-05-12T08:44:09.142624Z",
     "shell.execute_reply.started": "2023-05-12T08:44:07.641529Z"
    },
    "tags": []
   },
   "outputs": [
    {
     "name": "stdout",
     "output_type": "stream",
     "text": [
      "(252, 10)\n"
     ]
    },
    {
     "data": {
      "text/html": [
       "<div>\n",
       "<style scoped>\n",
       "    .dataframe tbody tr th:only-of-type {\n",
       "        vertical-align: middle;\n",
       "    }\n",
       "\n",
       "    .dataframe tbody tr th {\n",
       "        vertical-align: top;\n",
       "    }\n",
       "\n",
       "    .dataframe thead th {\n",
       "        text-align: right;\n",
       "    }\n",
       "</style>\n",
       "<table border=\"1\" class=\"dataframe\">\n",
       "  <thead>\n",
       "    <tr style=\"text-align: right;\">\n",
       "      <th></th>\n",
       "      <th>month</th>\n",
       "      <th>date</th>\n",
       "      <th>timestamp</th>\n",
       "      <th>email subject</th>\n",
       "      <th>email sender</th>\n",
       "      <th>email recipient</th>\n",
       "      <th>error code</th>\n",
       "      <th>error details</th>\n",
       "      <th>attachment name</th>\n",
       "      <th>link to attachment</th>\n",
       "    </tr>\n",
       "  </thead>\n",
       "  <tbody>\n",
       "    <tr>\n",
       "      <th>140</th>\n",
       "      <td>2023-02-01</td>\n",
       "      <td>2023-02-14</td>\n",
       "      <td>2023-02-14 00:52:22</td>\n",
       "      <td>PANDA SECURITY, S.L.U.: Invoice VPI23000064</td>\n",
       "      <td>payables-no@opera.com</td>\n",
       "      <td>payables-no@opera.com</td>\n",
       "      <td>BN-DGT10501</td>\n",
       "      <td>Target validation failed: [EUGEN-T10-R037]-An ...</td>\n",
       "      <td>Mail Content</td>\n",
       "      <td>https://drive.google.com/file/d/1cP5QwMS7A76oV...</td>\n",
       "    </tr>\n",
       "    <tr>\n",
       "      <th>144</th>\n",
       "      <td>2023-02-01</td>\n",
       "      <td>2023-02-14</td>\n",
       "      <td>2023-02-14 09:49:19</td>\n",
       "      <td>Re: Status of my account and request for</td>\n",
       "      <td>not_reply@bscs.basware.com</td>\n",
       "      <td>payables-no@opera.com</td>\n",
       "      <td>BN-DGT13008</td>\n",
       "      <td>Incorrect document type/material + Reminder of...</td>\n",
       "      <td>Mail Content</td>\n",
       "      <td>https://drive.google.com/file/d/1MeCbgg5ZUigQh...</td>\n",
       "    </tr>\n",
       "    <tr>\n",
       "      <th>87</th>\n",
       "      <td>2023-02-01</td>\n",
       "      <td>2023-02-14</td>\n",
       "      <td>2023-02-14 14:06:21</td>\n",
       "      <td>Faktura</td>\n",
       "      <td>mjanta@opera.com</td>\n",
       "      <td>faktury-wro@opera.com</td>\n",
       "      <td>BN-DGT10501</td>\n",
       "      <td>Target validation failed: [BII2-T10-R004]-An i...</td>\n",
       "      <td>Mail Content</td>\n",
       "      <td>https://drive.google.com/file/d/1nLQut1IpjoJ2-...</td>\n",
       "    </tr>\n",
       "    <tr>\n",
       "      <th>145</th>\n",
       "      <td>2023-02-01</td>\n",
       "      <td>2023-02-14</td>\n",
       "      <td>2023-02-14 16:43:11</td>\n",
       "      <td>FW: Bank account</td>\n",
       "      <td>ldoyle@opera.com</td>\n",
       "      <td>sergeyk@opera.com</td>\n",
       "      <td>BN-DGT13050</td>\n",
       "      <td>Mandatory Field could not be interpreted</td>\n",
       "      <td>Mail Content</td>\n",
       "      <td>https://drive.google.com/file/d/1fKJPnjpkL6b7Q...</td>\n",
       "    </tr>\n",
       "    <tr>\n",
       "      <th>88</th>\n",
       "      <td>2023-02-01</td>\n",
       "      <td>2023-02-15</td>\n",
       "      <td>2023-02-15 03:33:07</td>\n",
       "      <td>payment requestGeoEdge service</td>\n",
       "      <td>shuxianl@opera.com</td>\n",
       "      <td>payables-no@opera.com</td>\n",
       "      <td>BN-DGT10501</td>\n",
       "      <td>Target validation failed: [BII2-T10-R003]-An i...</td>\n",
       "      <td>Mail Content</td>\n",
       "      <td>https://drive.google.com/file/d/1OfzbLQp5xCVBf...</td>\n",
       "    </tr>\n",
       "  </tbody>\n",
       "</table>\n",
       "</div>"
      ],
      "text/plain": [
       "         month       date            timestamp  \\\n",
       "140 2023-02-01 2023-02-14  2023-02-14 00:52:22   \n",
       "144 2023-02-01 2023-02-14  2023-02-14 09:49:19   \n",
       "87  2023-02-01 2023-02-14  2023-02-14 14:06:21   \n",
       "145 2023-02-01 2023-02-14  2023-02-14 16:43:11   \n",
       "88  2023-02-01 2023-02-15  2023-02-15 03:33:07   \n",
       "\n",
       "                                   email subject                email sender  \\\n",
       "140  PANDA SECURITY, S.L.U.: Invoice VPI23000064       payables-no@opera.com   \n",
       "144     Re: Status of my account and request for  not_reply@bscs.basware.com   \n",
       "87                                       Faktura            mjanta@opera.com   \n",
       "145                             FW: Bank account            ldoyle@opera.com   \n",
       "88                payment requestGeoEdge service          shuxianl@opera.com   \n",
       "\n",
       "           email recipient   error code  \\\n",
       "140  payables-no@opera.com  BN-DGT10501   \n",
       "144  payables-no@opera.com  BN-DGT13008   \n",
       "87   faktury-wro@opera.com  BN-DGT10501   \n",
       "145      sergeyk@opera.com  BN-DGT13050   \n",
       "88   payables-no@opera.com  BN-DGT10501   \n",
       "\n",
       "                                         error details attachment name  \\\n",
       "140  Target validation failed: [EUGEN-T10-R037]-An ...    Mail Content   \n",
       "144  Incorrect document type/material + Reminder of...    Mail Content   \n",
       "87   Target validation failed: [BII2-T10-R004]-An i...    Mail Content   \n",
       "145           Mandatory Field could not be interpreted    Mail Content   \n",
       "88   Target validation failed: [BII2-T10-R003]-An i...    Mail Content   \n",
       "\n",
       "                                    link to attachment  \n",
       "140  https://drive.google.com/file/d/1cP5QwMS7A76oV...  \n",
       "144  https://drive.google.com/file/d/1MeCbgg5ZUigQh...  \n",
       "87   https://drive.google.com/file/d/1nLQut1IpjoJ2-...  \n",
       "145  https://drive.google.com/file/d/1fKJPnjpkL6b7Q...  \n",
       "88   https://drive.google.com/file/d/1OfzbLQp5xCVBf...  "
      ]
     },
     "execution_count": 12,
     "metadata": {},
     "output_type": "execute_result"
    }
   ],
   "source": [
    "import pandas as pd\n",
    "import numpy as np\n",
    "\n",
    "# (1) CREATING DATAFRAME FROM EMAIL\n",
    "\n",
    "# Open the downloaded email (mbox file) to Python\n",
    "with open(r\"Inbox 1005.mbox\", \"r\") as file:\n",
    "    lines = file.read().split(\"\\n\")\n",
    "    \n",
    "# Creating a dictionary containing content we want to scrape from an email:\n",
    "kw1 = \"Email Subject\"\n",
    "kw2 = \"Email Date\"\n",
    "kw3 = \"Email Sender\"\n",
    "kw4 = \"Email Recipient\"\n",
    "kw5 = \"Error code\"\n",
    "kw6 = \"Error details\"\n",
    "kw7 = \"Email Part\"\n",
    "\n",
    "kw_search = [kw1, kw2, kw3, kw4, kw5, kw6, kw7]\n",
    "\n",
    "email_subject = []\n",
    "email_date = []\n",
    "email_sender = []\n",
    "email_recipient = [] \n",
    "error_code = []\n",
    "error_detail = []\n",
    "attachment_name = []\n",
    "\n",
    "\n",
    "for line in lines:\n",
    "    if kw_search[0] in line:\n",
    "        email_subject.append(\" \".join(line.split()[2:-1]))\n",
    "        \n",
    "    if kw_search[1] in line:\n",
    "        email_date.append(\" \".join(line.split()[2:-1]))\n",
    "        \n",
    "    if kw_search[2] in line:\n",
    "        email_sender.append(\" \".join(line.split()[2:-1]))\n",
    "        \n",
    "    if kw_search[3] in line:\n",
    "        email_recipient.append(\" \".join(line.split()[2:-1]))\n",
    "        \n",
    "    if kw_search[4] in line:\n",
    "        error_code.append(\" \".join(line.split()[2:]))\n",
    "    \n",
    "    if kw_search[5] in line:\n",
    "        error_detail.append(\" \".join(line.split()[2:-1]))\n",
    "        \n",
    "    if kw_search[6] in line:\n",
    "        attachment_name.append(\" \".join(line.split()[2:-1]))\n",
    "        \n",
    "# Removing HTML code <br> from \"error code\" column\n",
    "error_code_df = []\n",
    "\n",
    "for error in error_code:\n",
    "    error_code_df.append(error[:-5])\n",
    "        \n",
    "    \n",
    "# Create a dictionary\n",
    "my_dict = {\n",
    "    \"email date\" : email_date,\n",
    "    \"email subject\" : email_subject,\n",
    "    \"email sender\" : email_sender,\n",
    "    \"email recipient\" : email_recipient,\n",
    "    \"error code\" : error_code_df,\n",
    "    \"error details\": error_detail,\n",
    "    \"attachment name\" : attachment_name\n",
    "}\n",
    "\n",
    "# Convert the dictionary into a dataframe\n",
    "inbox = pd.DataFrame(my_dict)\n",
    "\n",
    "    \n",
    "### (2) DATA CLEANING\n",
    "\n",
    "# Add the \"link to attachment\" column \n",
    "inbox['link to attachment'] = attachment_link\n",
    "\n",
    "# Add a \"date\" column \n",
    "date_col = []\n",
    "for date in inbox['email date']:\n",
    "    date_col.append(date[0:10])\n",
    "    \n",
    "inbox['date'] = date_col\n",
    "\n",
    "# Change the type of \"date\" column to datetime type\n",
    "inbox['date'] = pd.to_datetime(inbox['date'])\n",
    "\n",
    "# Add the \"month\" column \n",
    "inbox['month'] = inbox['date'].dt.strftime(\"%Y-%m\")\n",
    "\n",
    "# Change the type of \"month\" column to datetime type\n",
    "inbox['month'] = pd.to_datetime(inbox['month'])\n",
    "\n",
    "# Fixing the timestamp column:\n",
    "timestamp_col = []\n",
    "for timestamp in inbox['email date']:\n",
    "    timestamp_col.append(timestamp[0:19].replace(\"T\", \" \"))\n",
    "    \n",
    "inbox['timestamp'] = timestamp_col \n",
    "del inbox['email date']\n",
    "\n",
    "\n",
    "# Moving the \"month\" column to the first position\n",
    "first_col = inbox.pop('month')\n",
    "inbox.insert(0, \"month\", first_col)\n",
    "\n",
    "# Moving the \"date\" column to the second position\n",
    "sec_col = inbox.pop('date')\n",
    "inbox.insert(1, \"date\", sec_col)\n",
    "\n",
    "# Moving the \"timestamp\" column to the third position\n",
    "third_col = inbox.pop('timestamp')\n",
    "inbox.insert(2, \"timestamp\", third_col)\n",
    "\n",
    "# Converting \"timestamp\" to string type\n",
    "inbox['timestamp'] = inbox['timestamp'].astype('string')\n",
    "\n",
    "# Sort the data frame by \"timestamp\"\n",
    "inbox = inbox.sort_values(['timestamp'], ascending = True)\n",
    "\n",
    "print(inbox.shape)\n",
    "inbox.head(2)"
   ]
  },
  {
   "cell_type": "markdown",
   "id": "a3c15b55-5698-4a9a-af60-9f0a3cc288ec",
   "metadata": {},
   "source": [
    "### 6. Completing the updated dataframe with new emails appended"
   ]
  },
  {
   "cell_type": "code",
   "execution_count": 42,
   "id": "f449eb1b-745d-4f69-878a-37f71b6425af",
   "metadata": {
    "execution": {
     "iopub.execute_input": "2023-05-12T09:08:14.993953Z",
     "iopub.status.busy": "2023-05-12T09:08:14.993595Z",
     "iopub.status.idle": "2023-05-12T09:08:15.005294Z",
     "shell.execute_reply": "2023-05-12T09:08:15.004795Z",
     "shell.execute_reply.started": "2023-05-12T09:08:14.993930Z"
    },
    "tags": []
   },
   "outputs": [
    {
     "name": "stdout",
     "output_type": "stream",
     "text": [
      "(240, 14)\n",
      "(252, 11)\n",
      "True     240\n",
      "False     12\n",
      "Name: temp_col, dtype: int64\n",
      "The number of new rows in the new data frame:  (12, 11)\n"
     ]
    }
   ],
   "source": [
    "# Adding a \"string\" column to current_email df\n",
    "current_email['temp_col'] = current_email['timestamp'] + ' '+ current_email['email subject'] + ' '+ current_email['email sender'] + ' ' + current_email['email recipient'] + ' '+ current_email['error code'] + ' '+ current_email['error details']\n",
    "print(current_email.shape)                          \n",
    "\n",
    "# Adding a new string column to inbox df\n",
    "inbox['temp_col'] = inbox['timestamp'] + ' '+ inbox['email subject'] + ' '+ inbox['email sender'] + ' ' + inbox['email recipient'] + ' '+ inbox['error code'] + ' '+ inbox['error details']\n",
    "print(inbox.shape)\n",
    "\n",
    "# Find the number of duplicates and unique rows in two df\n",
    "print(inbox['temp_col'].isin(current_email['temp_col']).value_counts())\n",
    "\n",
    "# Get the new dataframe that only contains the new/unique rows\n",
    "df_diff = inbox.loc[~inbox['temp_col'].isin(current_email['temp_col'])]\n",
    "print(\"The number of new rows in the new data frame: \", df_diff.shape)\n",
    "\n",
    "# Drop \"temp_col\" in both \"current_email\" and \"df_diff\" dataframe\n",
    "del df_diff['temp_col']\n",
    "del current_email['temp_col']\n",
    "\n",
    "# Add 3 columns to the df_diff so that we could concatenate \"current_email\" df and \"df_diff\" df later\n",
    "df_diff['Verified by'] = np.nan\n",
    "df_diff['Comment'] = np.nan\n",
    "df_diff['Status'] = np.nan\n",
    "\n",
    "# Now, we concatenate \"current_email\" and \"df_diff\" together\n",
    "data = [current_email,df_diff]\n",
    "update_df = pd.concat(data)\n",
    "\n",
    "print(\"Shape of the updated dataframe: \", update_df.shape)"
   ]
  },
  {
   "cell_type": "markdown",
   "id": "3f85e2fb-8621-4978-bc51-5723e3c7db1c",
   "metadata": {
    "tags": []
   },
   "source": [
    "### 5. Upload the dataframe to Google Sheet file"
   ]
  },
  {
   "cell_type": "code",
   "execution_count": 58,
   "id": "9e882b9c-0dde-4ace-9887-f8a6265178c8",
   "metadata": {
    "execution": {
     "iopub.execute_input": "2023-05-12T09:26:40.861142Z",
     "iopub.status.busy": "2023-05-12T09:26:40.860798Z",
     "iopub.status.idle": "2023-05-12T09:26:43.378842Z",
     "shell.execute_reply": "2023-05-12T09:26:43.378262Z",
     "shell.execute_reply.started": "2023-05-12T09:26:40.861121Z"
    },
    "tags": []
   },
   "outputs": [],
   "source": [
    "from datetime import date\n",
    "import aiteam_tools.ai_tools.gsheets_api as gsheet\n",
    "from apiclient import discovery\n",
    "\n",
    "\n",
    "# Set up google sheets api\n",
    "sheets = discovery.build(\"sheets\", \"v4\").spreadsheets()\n",
    "gsID = \"1AfFa7lPHZ5_NgYNHAawcf4Wy5hGDpsY683T6UkBcb64\"\n",
    "sheet = \"Rejection Emails\"\n",
    "\n",
    "# Insert the actual data\n",
    "gsheet.upload_df(update_df, sheets, gsID, sheet, \"A\", 1)"
   ]
  }
 ],
 "metadata": {
  "kernelspec": {
   "display_name": "Python 3 (ipykernel)",
   "language": "python",
   "name": "python3"
  },
  "language_info": {
   "codemirror_mode": {
    "name": "ipython",
    "version": 3
   },
   "file_extension": ".py",
   "mimetype": "text/x-python",
   "name": "python",
   "nbconvert_exporter": "python",
   "pygments_lexer": "ipython3",
   "version": "3.8.16"
  }
 },
 "nbformat": 4,
 "nbformat_minor": 5
}
